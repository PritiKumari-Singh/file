{
  "nbformat": 4,
  "nbformat_minor": 0,
  "metadata": {
    "colab": {
      "provenance": []
    },
    "kernelspec": {
      "name": "python3",
      "display_name": "Python 3"
    },
    "language_info": {
      "name": "python"
    }
  },
  "cells": [
    {
      "cell_type": "code",
      "execution_count": null,
      "metadata": {
        "id": "C-nSOc3zFoJA"
      },
      "outputs": [],
      "source": []
    },
    {
      "cell_type": "markdown",
      "source": [
        "1. Difference between interpreted and compiled languages\n",
        "\n",
        "Interpreted: Code is executed line-by-line at runtime (e.g., Python, JavaScript).\n",
        "\n",
        "Compiled: Entire code is translated into machine code before execution (e.g., C, C++).\n"
      ],
      "metadata": {
        "id": "kNdLGXDhFxkk"
      }
    },
    {
      "cell_type": "markdown",
      "source": [
        "2. Exception handling in Python.\n",
        "\n",
        "A mechanism to handle runtime errors gracefully without crashing the program, using try, except, else, and finally."
      ],
      "metadata": {
        "id": "_6IS8oiAF5lO"
      }
    },
    {
      "cell_type": "markdown",
      "source": [
        "3. Purpose of the finally block in exception handling\n",
        "\n",
        "Ensures that certain code (like closing files, releasing resources) always runs, regardless of whether an exception occurred"
      ],
      "metadata": {
        "id": "dsC4HtPUGJNL"
      }
    },
    {
      "cell_type": "markdown",
      "source": [
        "4. Logging in Python\n",
        "\n",
        "Logging records program events (errors, warnings, info) for debugging and monitoring purposes using the logging module.\n"
      ],
      "metadata": {
        "id": "JpxSjpdeGLtW"
      }
    },
    {
      "cell_type": "markdown",
      "source": [
        "5. Significance of the _del_ method\n",
        "\n",
        "A destructor method called when an object is about to be destroyed; used for cleanup tasks.\n"
      ],
      "metadata": {
        "id": "YQfk4BPxGaU9"
      }
    },
    {
      "cell_type": "markdown",
      "source": [
        "6. Difference between import and from ... import\n",
        "\n",
        "import module: Imports the entire module.\n",
        "\n",
        "from module import function: Imports specific functions or variables from a module.\n"
      ],
      "metadata": {
        "id": "hWO9T-UKGlZ4"
      }
    },
    {
      "cell_type": "markdown",
      "source": [
        "7. Handling multiple exceptions in Python\n",
        "\n",
        "Using multiple except blocks:\n",
        "\n",
        "try:\n",
        "    ...\n",
        "except ValueError:\n",
        "    ...\n",
        "except TypeError:\n",
        "    ...\n",
        "\n",
        "Using a tuple:\n",
        "\n",
        "except (ValueError, TypeError):\n",
        "    ..."
      ],
      "metadata": {
        "id": "oo1xmnWxGyXD"
      }
    },
    {
      "cell_type": "markdown",
      "source": [
        "8. Purpose of with statement in file handling.\n",
        "\n",
        "Automatically manages resources — opens the file and closes it when the block ends, even if an error occurs."
      ],
      "metadata": {
        "id": "PBPtUJsyG4c9"
      }
    },
    {
      "cell_type": "markdown",
      "source": [
        "9. Difference between multithreading and multiprocessing\n",
        "\n",
        "Multithreading: Multiple threads share the same memory space.\n",
        "\n",
        "Multiprocessing: Multiple processes with separate memory spaces; better for CPU-bound tasks."
      ],
      "metadata": {
        "id": "to0Twc78G-iZ"
      }
    },
    {
      "cell_type": "markdown",
      "source": [
        "10. Advantages of logging in a program.\n",
        "\n",
        "Keeps a history of events\n",
        "\n",
        "Easier debugging\n",
        "\n",
        "Tracks issues in production\n",
        "\n",
        "Can log at different severity levels\n"
      ],
      "metadata": {
        "id": "iLrVKfnKHDRB"
      }
    },
    {
      "cell_type": "markdown",
      "source": [
        "11. Memory management in Python.\n",
        "\n",
        "Automatic memory allocation and deallocation using Python’s private heap and garbage collector.\n"
      ],
      "metadata": {
        "id": "2k71-8bbHKkr"
      }
    },
    {
      "cell_type": "markdown",
      "source": [
        "12. Basic steps in exception handling\n",
        "\n",
        "Wrap risky code in try.\n",
        "\n",
        "Catch errors in except.\n",
        "\n",
        "Optionally use else for code that runs if no error.\n",
        "\n",
        "Use finally for cleanup"
      ],
      "metadata": {
        "id": "MRdHkjLOHSJw"
      }
    },
    {
      "cell_type": "markdown",
      "source": [
        "13. Why memory management is important?\n",
        "\n",
        "Prevents memory leaks\n",
        "\n",
        "Ensures efficient resource use\n",
        "\n",
        "Improves performance"
      ],
      "metadata": {
        "id": "7_IPAXB1HhLZ"
      }
    },
    {
      "cell_type": "markdown",
      "source": [
        "14. Role of try and except in exception handling\n",
        "\n",
        "try: Block where code might cause an exception.\n",
        "\n",
        "except: Handles the exception if it occurs."
      ],
      "metadata": {
        "id": "B35n8EGDHsi-"
      }
    },
    {
      "cell_type": "markdown",
      "source": [
        "15. Python's garbage collection system\n",
        "\n",
        "Uses reference counting and a cyclic garbage collector to remove unused objects from memory.\n"
      ],
      "metadata": {
        "id": "gqikmP9qHy8u"
      }
    },
    {
      "cell_type": "markdown",
      "source": [
        "16. Purpose of else block in exception handling\n",
        "Runs only if no exception is raised in the try block.\n"
      ],
      "metadata": {
        "id": "fhMeD-k9H332"
      }
    },
    {
      "cell_type": "markdown",
      "source": [
        "17. Common logging levels in Python\n",
        "\n",
        "DEBUG\n",
        "\n",
        "INFO\n",
        "\n",
        "WARNING\n",
        "\n",
        "ERROR\n",
        "\n",
        "CRITICAL\n"
      ],
      "metadata": {
        "id": "AdDA9Pu2H84p"
      }
    },
    {
      "cell_type": "markdown",
      "source": [
        "18. Difference between os.fork() and multiprocessing\n",
        "\n",
        "os.fork(): Unix-only, creates a child process by duplicating the current process.\n",
        "\n",
        "multiprocessing: Cross-platform, uses Python API to create new processes.\n",
        "\n",
        "\n"
      ],
      "metadata": {
        "id": "GQl27Q_7ICFc"
      }
    },
    {
      "cell_type": "markdown",
      "source": [
        "19. Importance of closing a file.\n",
        "\n",
        "Releases system resources, ensures all data is written to disk.\n"
      ],
      "metadata": {
        "id": "w58rjqYpIPtX"
      }
    },
    {
      "cell_type": "markdown",
      "source": [
        "20. Difference between file.read() and file.readline()\n",
        "\n",
        "read(): Reads the whole file or a specified number of characters.\n",
        "\n",
        "readline(): Reads one line at a time.\n"
      ],
      "metadata": {
        "id": "PmlTVEJjIWpm"
      }
    },
    {
      "cell_type": "markdown",
      "source": [
        "21. Logging module usage.\n",
        "\n",
        "Used to create logs with different severity levels for debugging and monitoring.\n"
      ],
      "metadata": {
        "id": "NFZc1q0EIfGP"
      }
    },
    {
      "cell_type": "markdown",
      "source": [
        "22. OS module in file handling.\n",
        "\n",
        "Provides functions to interact with the operating system — e.g., os.remove() to delete files, os.rename() to rename files.\n"
      ],
      "metadata": {
        "id": "fe-Hln6CIj4H"
      }
    },
    {
      "cell_type": "markdown",
      "source": [
        "23. Challenges with memory management in Python.\n",
        "\n",
        "Cyclic references\n",
        "\n",
        "Large objects staying in memory\n",
        "\n",
        "Memory fragmentation"
      ],
      "metadata": {
        "id": "7F1-_l-DIpGc"
      }
    },
    {
      "cell_type": "markdown",
      "source": [
        "24. Raising an exception manually\n",
        "\n",
        "raise ValueError(\"Custom error message\")\n"
      ],
      "metadata": {
        "id": "G-0XYgjgIxpA"
      }
    },
    {
      "cell_type": "markdown",
      "source": [
        "25. Importance of multithreading in certain applications\n",
        "\n",
        "Useful for I/O-bound tasks\n",
        "\n",
        "Improves responsiveness\n",
        "\n",
        "Allows simultaneous operations"
      ],
      "metadata": {
        "id": "BKbVNhRTI2QZ"
      }
    },
    {
      "cell_type": "code",
      "source": [
        "# 1. How can you open a file for writing in Python and write a string to it?\n",
        "with open(\"write_test.txt\", \"w\") as f:\n",
        "    f.write(\"This is written using Python.\\n\")\n",
        "print(\"File 'write_test.txt' created and text written.\")"
      ],
      "metadata": {
        "colab": {
          "base_uri": "https://localhost:8080/"
        },
        "id": "fksKswb4KJMS",
        "outputId": "fe7f825e-dfc1-4010-e3d8-005e40ec26ea"
      },
      "execution_count": 32,
      "outputs": [
        {
          "output_type": "stream",
          "name": "stdout",
          "text": [
            "File 'write_test.txt' created and text written.\n"
          ]
        }
      ]
    },
    {
      "cell_type": "code",
      "source": [
        "# 2. Write a Python program to read the contents of a file and print each line.\n",
        "with open(\"sample.txt\", \"w\") as f:\n",
        "    f.write(\"Hello, this is a test string.\\nSecond line here.\")\n",
        "with open(\"sample.txt\", \"r\") as f:\n",
        "    for line in f:\n",
        "        print(line.strip())"
      ],
      "metadata": {
        "colab": {
          "base_uri": "https://localhost:8080/"
        },
        "id": "QrPMVxflLics",
        "outputId": "fecee060-f1db-4ba5-c005-c6bf551645a8"
      },
      "execution_count": 4,
      "outputs": [
        {
          "output_type": "stream",
          "name": "stdout",
          "text": [
            "Hello, this is a test string.\n",
            "Second line here.\n"
          ]
        }
      ]
    },
    {
      "cell_type": "code",
      "source": [
        "# 3. How would you handle a case where the file doesn’t exist while trying to open it for reading?\n",
        "try:\n",
        "    with open(\"nofile.txt\", \"r\") as f:\n",
        "        print(f.read())\n",
        "except FileNotFoundError:\n",
        "    print(\"File not found!\")"
      ],
      "metadata": {
        "colab": {
          "base_uri": "https://localhost:8080/"
        },
        "id": "Xn97EiTRLop1",
        "outputId": "ecfdf2fd-d8c9-45cc-8ff4-9576de31fb2e"
      },
      "execution_count": 5,
      "outputs": [
        {
          "output_type": "stream",
          "name": "stdout",
          "text": [
            "File not found!\n"
          ]
        }
      ]
    },
    {
      "cell_type": "code",
      "source": [
        "# 4. Write a Python script that reads from one file and writes its content to another file.\n",
        "with open(\"source.txt\", \"w\") as f:\n",
        "    f.write(\"Content to copy into another file.\")\n",
        "with open(\"source.txt\", \"r\") as src, open(\"destination.txt\", \"w\") as dest:\n",
        "    dest.write(src.read())\n",
        "print(\" File copied from 'source.txt' to 'destination.txt'.\")"
      ],
      "metadata": {
        "colab": {
          "base_uri": "https://localhost:8080/"
        },
        "id": "zbyq2kI2LuHS",
        "outputId": "a3f2f180-319d-4583-bbcd-89d03f100c99"
      },
      "execution_count": 35,
      "outputs": [
        {
          "output_type": "stream",
          "name": "stdout",
          "text": [
            " File copied from 'source.txt' to 'destination.txt'.\n"
          ]
        }
      ]
    },
    {
      "cell_type": "code",
      "source": [
        "# 5. How would you catch and handle division by zero error in Python?\n",
        "try:\n",
        "    result = 10 / 0\n",
        "except ZeroDivisionError:\n",
        "    print(\"Division by zero is not allowed.\")"
      ],
      "metadata": {
        "colab": {
          "base_uri": "https://localhost:8080/"
        },
        "id": "My5T6hu-L1pt",
        "outputId": "8243ff84-f6da-4a58-d5eb-051bae6cc899"
      },
      "execution_count": 8,
      "outputs": [
        {
          "output_type": "stream",
          "name": "stdout",
          "text": [
            "Division by zero is not allowed.\n"
          ]
        }
      ]
    },
    {
      "cell_type": "code",
      "source": [
        "# 6. Write a Python program that logs an error message to a log file when a division by zero exception occurs.\n",
        "import logging\n",
        "logging.basicConfig(filename=\"error.log\", level=logging.ERROR)\n",
        "try:\n",
        "    x = 10 / 0\n",
        "except ZeroDivisionError:\n",
        "    logging.error(\"Division by zero error occurred.\")"
      ],
      "metadata": {
        "colab": {
          "base_uri": "https://localhost:8080/"
        },
        "id": "l_BimuUmL-aG",
        "outputId": "810114ee-652b-49c8-96c2-2275c27cc5cd"
      },
      "execution_count": 9,
      "outputs": [
        {
          "output_type": "stream",
          "name": "stderr",
          "text": [
            "ERROR:root:Division by zero error occurred.\n"
          ]
        }
      ]
    },
    {
      "cell_type": "code",
      "source": [
        "# 7. How do you log information at different levels (INFO, ERROR, WARNING) in Python using the logging module?\n",
        "import logging\n",
        "logging.basicConfig(level=logging.DEBUG)\n",
        "logging.info(\"Info message\")\n",
        "logging.warning(\"Warning message\")\n",
        "logging.error(\"Error message\")"
      ],
      "metadata": {
        "colab": {
          "base_uri": "https://localhost:8080/"
        },
        "id": "TPlhV2rCMG7O",
        "outputId": "80773c20-01bd-4dae-9eeb-1361dd4dc853"
      },
      "execution_count": 10,
      "outputs": [
        {
          "output_type": "stream",
          "name": "stderr",
          "text": [
            "WARNING:root:Warning message\n",
            "ERROR:root:Error message\n"
          ]
        }
      ]
    },
    {
      "cell_type": "code",
      "source": [
        "# 8. Write a program to handle a file opening error using exception handling.\n",
        "try:\n",
        "    with open(\"unknown.txt\", \"r\") as f:\n",
        "        print(f.read())\n",
        "except IOError:\n",
        "    print(\"Error opening file.\")\n"
      ],
      "metadata": {
        "colab": {
          "base_uri": "https://localhost:8080/"
        },
        "id": "kMOo79tIMMlN",
        "outputId": "d6386510-ccd8-4f69-be84-1e51cabc2612"
      },
      "execution_count": 11,
      "outputs": [
        {
          "output_type": "stream",
          "name": "stdout",
          "text": [
            "Error opening file.\n"
          ]
        }
      ]
    },
    {
      "cell_type": "code",
      "source": [
        "# 9. How can you read a file line by line and store its content in a list in Python?\n",
        "with open(\"sample.txt\", \"w\") as f:\n",
        "    f.write(\"Line 1\\nLine 2\\nLine 3\")\n",
        "with open(\"sample.txt\", \"r\") as f:\n",
        "    lines = [line.strip() for line in f]\n",
        "print(lines)"
      ],
      "metadata": {
        "colab": {
          "base_uri": "https://localhost:8080/"
        },
        "id": "j9ilKxmuMX02",
        "outputId": "2ccef525-7b5d-4cad-e939-3ebccc7fac0c"
      },
      "execution_count": 12,
      "outputs": [
        {
          "output_type": "stream",
          "name": "stdout",
          "text": [
            "['Line 1', 'Line 2', 'Line 3']\n"
          ]
        }
      ]
    },
    {
      "cell_type": "code",
      "source": [
        "# 10. How can you append data to an existing file in Python?\n",
        "with open(\"sample.txt\", \"w\") as f:\n",
        "    f.write(\"Initial file content.\")\n",
        "with open(\"sample.txt\", \"a\") as f:\n",
        "    f.write(\"\\nThis is appended text.\")\n",
        "print(\" Text appended to 'sample.txt'.\")"
      ],
      "metadata": {
        "colab": {
          "base_uri": "https://localhost:8080/"
        },
        "id": "XpLXSmmwMcLA",
        "outputId": "14776d91-7718-4cef-ef04-54c2b19a2da2"
      },
      "execution_count": 37,
      "outputs": [
        {
          "output_type": "stream",
          "name": "stdout",
          "text": [
            " Text appended to 'sample.txt'.\n"
          ]
        }
      ]
    },
    {
      "cell_type": "code",
      "source": [
        "# 11. Write a Python program that uses a try-except block to handle an error when attempting to access a dictionary key that doesn’t exist.\n",
        "data = {\"name\": \"Priya\"}\n",
        "try:\n",
        "    print(data[\"age\"])\n",
        "except KeyError:\n",
        "    print(\"Key not found.\")"
      ],
      "metadata": {
        "colab": {
          "base_uri": "https://localhost:8080/"
        },
        "id": "1r062Pe6Mk31",
        "outputId": "483753ac-f651-4785-bb85-8efae27c5c95"
      },
      "execution_count": 15,
      "outputs": [
        {
          "output_type": "stream",
          "name": "stdout",
          "text": [
            "Key not found.\n"
          ]
        }
      ]
    },
    {
      "cell_type": "code",
      "source": [
        "# 12. Write a program that demonstrates using multiple except blocks to handle different types of exceptions.\n",
        "try:\n",
        "    x = int(\"abc\")\n",
        "except ValueError:\n",
        "    print(\"Value error occurred.\")\n",
        "except TypeError:\n",
        "    print(\"Type error occurred.\")"
      ],
      "metadata": {
        "colab": {
          "base_uri": "https://localhost:8080/"
        },
        "id": "Ao801MMpMp2x",
        "outputId": "44f86489-6bdf-4431-a832-7c23122fa344"
      },
      "execution_count": 16,
      "outputs": [
        {
          "output_type": "stream",
          "name": "stdout",
          "text": [
            "Value error occurred.\n"
          ]
        }
      ]
    },
    {
      "cell_type": "code",
      "source": [
        "# 13. How would you check if a file exists before attempting to read it in Python?\n",
        "import os\n",
        "if os.path.exists(\"sample.txt\"):\n",
        "    with open(\"sample.txt\", \"r\") as f:\n",
        "        print(f.read())\n",
        "else:\n",
        "    print(\"File does not exist.\")"
      ],
      "metadata": {
        "colab": {
          "base_uri": "https://localhost:8080/"
        },
        "id": "D4UezE-FMx1i",
        "outputId": "ea31c01c-2e4f-4c81-f6dc-c88211a6f1b5"
      },
      "execution_count": 17,
      "outputs": [
        {
          "output_type": "stream",
          "name": "stdout",
          "text": [
            "Line 1\n",
            "Line 2\n",
            "Line 3\n",
            "This is appended text.\n",
            "This is appended text.\n"
          ]
        }
      ]
    },
    {
      "cell_type": "code",
      "source": [
        " #14. Write a program that uses the logging module to log both informational and error messages.\n",
        "import logging\n",
        "logging.basicConfig(filename=\"app.log\", level=logging.INFO)\n",
        "logging.info(\"Program started.\")\n",
        "try:\n",
        "    x = 5 / 0\n",
        "except ZeroDivisionError:\n",
        "    logging.error(\"Division by zero error.\")"
      ],
      "metadata": {
        "colab": {
          "base_uri": "https://localhost:8080/"
        },
        "id": "KqugMqE5M6py",
        "outputId": "2deab290-5968-49b0-c81d-77006238a2df"
      },
      "execution_count": 19,
      "outputs": [
        {
          "output_type": "stream",
          "name": "stderr",
          "text": [
            "ERROR:root:Division by zero error.\n"
          ]
        }
      ]
    },
    {
      "cell_type": "code",
      "source": [
        "# 15. Write a Python program that prints the content of a file and handles the case when the file is empty.\n",
        "with open(\"empty.txt\", \"w\") as f:\n",
        "    pass\n",
        "with open(\"empty.txt\", \"r\") as f:\n",
        "    content = f.read()\n",
        "    if content.strip():\n",
        "        print(content)\n",
        "    else:\n",
        "        print(\"File is empty.\")"
      ],
      "metadata": {
        "colab": {
          "base_uri": "https://localhost:8080/"
        },
        "id": "UTzwCh18NDVS",
        "outputId": "4d89d560-66e3-4a55-9011-775e563d865f"
      },
      "execution_count": 20,
      "outputs": [
        {
          "output_type": "stream",
          "name": "stdout",
          "text": [
            "File is empty.\n"
          ]
        }
      ]
    },
    {
      "cell_type": "code",
      "source": [
        "# 16. Demonstrate how to use memory management in Python using a simple example of a small program.\n",
        "import gc\n",
        "class MyClass:\n",
        "    pass\n",
        "obj = MyClass()\n",
        "del obj\n",
        "gc.collect()\n",
        "print(\"Garbage collection done.\")\n"
      ],
      "metadata": {
        "colab": {
          "base_uri": "https://localhost:8080/"
        },
        "id": "pQJjTJ-hNIyL",
        "outputId": "72430745-39b5-46ca-c193-91505aa93335"
      },
      "execution_count": 21,
      "outputs": [
        {
          "output_type": "stream",
          "name": "stdout",
          "text": [
            "Garbage collection done.\n"
          ]
        }
      ]
    },
    {
      "cell_type": "code",
      "source": [
        "# 17. Write a Python program to create and write a list of numbers to a file, one number per line.\n",
        "with open(\"numbers.txt\", \"w\") as f:\n",
        "    for i in range(1, 11):\n",
        "        f.write(f\"{i}\\n\")\n",
        "print(\"Numbers 1-10 written to 'numbers.txt'.\")\n"
      ],
      "metadata": {
        "colab": {
          "base_uri": "https://localhost:8080/"
        },
        "id": "LzP4zKyrNPuV",
        "outputId": "ca392023-48e7-41ba-95e3-a5568456f231"
      },
      "execution_count": 38,
      "outputs": [
        {
          "output_type": "stream",
          "name": "stdout",
          "text": [
            "Numbers 1-10 written to 'numbers.txt'.\n"
          ]
        }
      ]
    },
    {
      "cell_type": "code",
      "source": [
        "# 18. How would you implement a basic logging setup that logs to a file with rotation after 1MB?\n",
        "import logging\n",
        "from logging.handlers import RotatingFileHandler\n",
        "# Setting up rotating log file\n",
        "handler = RotatingFileHandler(\"rotating.log\", maxBytes=1024*1024, backupCount=3)\n",
        "logging.basicConfig(handlers=[handler], level=logging.INFO)\n",
        "logging.info(\"This is a rotating log message.\")\n",
        "print(\" Rotating log setup done. Message logged to 'rotating.log'.\")\n"
      ],
      "metadata": {
        "colab": {
          "base_uri": "https://localhost:8080/"
        },
        "id": "DDTt7Z08NWlJ",
        "outputId": "716540e9-aadb-4bfb-d9c0-4123ceea57d2"
      },
      "execution_count": 41,
      "outputs": [
        {
          "output_type": "stream",
          "name": "stdout",
          "text": [
            " Rotating log setup done. Message logged to 'rotating.log'.\n"
          ]
        }
      ]
    },
    {
      "cell_type": "code",
      "source": [
        "# 19. Write a program that handles both IndexError and KeyError using a try-except block.\n",
        "try:\n",
        "    lst = [1, 2]\n",
        "    print(lst[5])\n",
        "    data = {\"a\": 1}\n",
        "    print(data[\"b\"])\n",
        "except IndexError:\n",
        "    print(\"Index out of range.\")\n",
        "except KeyError:\n",
        "    print(\"Key not found.\")"
      ],
      "metadata": {
        "colab": {
          "base_uri": "https://localhost:8080/"
        },
        "id": "w74lAsd2NdeO",
        "outputId": "234d6dd2-0f1f-4033-c46f-1957ed0c48d1"
      },
      "execution_count": 26,
      "outputs": [
        {
          "output_type": "stream",
          "name": "stdout",
          "text": [
            "Index out of range.\n"
          ]
        }
      ]
    },
    {
      "cell_type": "code",
      "source": [
        "# 20. How would you open a file and read its contents using a context manager in Python?\n",
        "with open(\"sample.txt\", \"r\") as f:\n",
        "    print(f.read())"
      ],
      "metadata": {
        "colab": {
          "base_uri": "https://localhost:8080/"
        },
        "id": "Qhlz8V7jNjpY",
        "outputId": "3d85d497-53af-429f-adec-ca6e78f446b1"
      },
      "execution_count": 27,
      "outputs": [
        {
          "output_type": "stream",
          "name": "stdout",
          "text": [
            "Line 1\n",
            "Line 2\n",
            "Line 3\n",
            "This is appended text.\n",
            "This is appended text.\n"
          ]
        }
      ]
    },
    {
      "cell_type": "code",
      "source": [
        "# 21. Write a Python program that reads a file and prints the number of occurrences of a specific word.\n",
        "word = \"test\"\n",
        "with open(\"sample.txt\", \"r\") as f:\n",
        "    content = f.read().lower()\n",
        "count = content.count(word.lower())\n",
        "print(f\"The word '{word}' occurs {count} times.\")\n"
      ],
      "metadata": {
        "colab": {
          "base_uri": "https://localhost:8080/"
        },
        "id": "UAjJV9YZNp4b",
        "outputId": "0be13f8a-f288-4803-8943-07a640257c02"
      },
      "execution_count": 28,
      "outputs": [
        {
          "output_type": "stream",
          "name": "stdout",
          "text": [
            "The word 'test' occurs 0 times.\n"
          ]
        }
      ]
    },
    {
      "cell_type": "code",
      "source": [
        "# 22. How can you check if a file is empty before attempting to read its contents?\n",
        "import os\n",
        "if os.path.getsize(\"sample.txt\") == 0:\n",
        "    print(\"File is empty.\")\n",
        "else:\n",
        "    print(\"File is not empty.\")"
      ],
      "metadata": {
        "colab": {
          "base_uri": "https://localhost:8080/"
        },
        "id": "tgKL_pmXNx07",
        "outputId": "b3191ca9-82f7-40ae-af87-aacda010180f"
      },
      "execution_count": 29,
      "outputs": [
        {
          "output_type": "stream",
          "name": "stdout",
          "text": [
            "File is not empty.\n"
          ]
        }
      ]
    },
    {
      "cell_type": "code",
      "source": [
        "# 23. Write a Python program that writes to a log file when an error occurs during file handling.\n",
        "import logging\n",
        "logging.basicConfig(filename=\"file_errors.log\", level=logging.ERROR)\n",
        "try:\n",
        "    with open(\"nofile.txt\", \"r\") as f:\n",
        "        print(f.read())\n",
        "except Exception as e:\n",
        "    logging.error(f\"Error: {e}\")"
      ],
      "metadata": {
        "colab": {
          "base_uri": "https://localhost:8080/"
        },
        "id": "1P0tcboTN5CQ",
        "outputId": "924ee896-aa55-4120-8525-e24b8f9e2b95"
      },
      "execution_count": 30,
      "outputs": [
        {
          "output_type": "stream",
          "name": "stderr",
          "text": [
            "ERROR:root:Error: [Errno 2] No such file or directory: 'nofile.txt'\n"
          ]
        }
      ]
    }
  ]
}